{
 "cells": [
  {
   "cell_type": "markdown",
   "metadata": {},
   "source": [
    "데이터 전처리 (데이터 가공)\n",
    "- 데이터를 수집한 후\n",
    "- 분석 작업을 수행하기 전에\n",
    "- 분석이 용이하도록 데이터를 다듬는 과정\n",
    "\n",
    "- 실제 데이터를 분석하는 과정보다 어렵고 시간도 오래 걸림\n",
    "- 실제 분석 프로젝트 또는 업무 수행의 60~80%의 정도 시간을 차지함\n",
    "\n",
    "유사 용어\n",
    "- 데이터 전처리\n",
    "- 데이터 가공\n",
    "- 데이터 핸들링"
   ]
  },
  {
   "cell_type": "markdown",
   "metadata": {},
   "source": [
    "데이터 전처리 과정에서 수행되는 작업\n",
    "- 변수 생성 / 변수명 변경 - 파생 변수 만들기\n",
    "- 데이터 추출 / 변경 / 정렬 / 병합\n",
    "- 정제"
   ]
  },
  {
   "cell_type": "markdown",
   "metadata": {},
   "source": [
    "분석을 위한 데이터 기본 정리\n",
    "- 보유한 데이터를 원하는 형태로 구성해서\n",
    "- 분석 목적에 맞는 결과를 도출해 내려면\n",
    "- 기본 상태의 데이터인 원시 데이터를 제대로 파악한 후\n",
    "- 이후 작업이 수월하도록 기본 정리 작업을 해야 함"
   ]
  },
  {
   "cell_type": "markdown",
   "metadata": {},
   "source": [
    "데이터 전처리 과정\n",
    "- 데이터를 다루는 기초 작업\n",
    "    - 데이터 파악 / 변수명 변경 / 파생변수 만들기\n",
    "- 데이터 전처리\n",
    "    - 조건에 맞는 데이터 추출\n",
    "    - 필요한 열(변수)만 추출\n",
    "    - 순서대로 정렬\n",
    "    - 파생 변수 추가(열 추가)\n",
    "    - 그룹화해서 그룹별로 요약\n",
    "- 데이터 정제 (오류 찾아서 수정)\n",
    "    - 결측치 제거 (빠진 값 제거)\n",
    "    - 이상치 제거 (이상한 데이터 제거 : 범위에서 너무 벗어든 데이터 제거)"
   ]
  },
  {
   "cell_type": "markdown",
   "metadata": {},
   "source": [
    "이상치\n",
    "- 정상 범주에서 크게 벗어난 값\n",
    "- 데이터 수집 과정에서 오류가 발생할 수 있기 때문에\n",
    "- 현장에서 만들어진 실제 데이터에는 이상치가 포함되어 있을 수 있음\n",
    "- 또는 드물게 발생하지만 극단적인 값이 존재할 수 있음\n",
    "- 이상치가 포함되어 있으면 분석 결과가 왜곡될 수 있기 대문에\n",
    "- 분석에 앞서 전처리 과정에서 이상치를 제거하는 작업을 수행해야 함"
   ]
  },
  {
   "cell_type": "markdown",
   "metadata": {},
   "source": [
    "데이터 구조 확인\n",
    "데이터프레임 형태 데이터 구성되어 있음\n",
    "데이터프레임 만든 방법\n",
    "열 추가 / 열 삭제 등 작업 기초 작업 수행"
   ]
  },
  {
   "cell_type": "code",
   "execution_count": null,
   "metadata": {},
   "outputs": [],
   "source": []
  },
  {
   "cell_type": "code",
   "execution_count": null,
   "metadata": {},
   "outputs": [],
   "source": []
  },
  {
   "cell_type": "code",
   "execution_count": null,
   "metadata": {},
   "outputs": [],
   "source": []
  },
  {
   "cell_type": "code",
   "execution_count": null,
   "metadata": {},
   "outputs": [],
   "source": []
  },
  {
   "cell_type": "code",
   "execution_count": null,
   "metadata": {},
   "outputs": [],
   "source": []
  }
 ],
 "metadata": {
  "kernelspec": {
   "display_name": "Python 3",
   "language": "python",
   "name": "python3"
  },
  "language_info": {
   "codemirror_mode": {
    "name": "ipython",
    "version": 3
   },
   "file_extension": ".py",
   "mimetype": "text/x-python",
   "name": "python",
   "nbconvert_exporter": "python",
   "pygments_lexer": "ipython3",
   "version": "3.8.5"
  }
 },
 "nbformat": 4,
 "nbformat_minor": 4
}
